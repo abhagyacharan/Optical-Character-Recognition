{
 "cells": [
  {
   "cell_type": "code",
   "execution_count": 1,
   "metadata": {},
   "outputs": [
    {
     "name": "stdout",
     "output_type": "stream",
     "text": [
      "2.10.0\n",
      "[PhysicalDevice(name='/physical_device:GPU:0', device_type='GPU')]\n"
     ]
    }
   ],
   "source": [
    "import pandas as pd\n",
    "import numpy as np\n",
    "import time\n",
    "import tensorflow as tf\n",
    "print(tf.__version__)\n",
    "print(tf.config.list_physical_devices('GPU'))"
   ]
  },
  {
   "cell_type": "code",
   "execution_count": 14,
   "metadata": {},
   "outputs": [],
   "source": [
    "import os\n",
    "os.environ['TF_CPP_MIN_LOG_LEVEL'] = '0'\n",
    "# import tensorflow as tf\n",
    "tf.get_logger().setLevel('INFO')"
   ]
  },
  {
   "cell_type": "code",
   "execution_count": 2,
   "metadata": {},
   "outputs": [],
   "source": [
    "#Reading the MNSIT dataset\n",
    "def read_MNIST(path):\n",
    "\tdata = pd.read_csv(path,skiprows=1)\n",
    "\tX = data.iloc[:, 1:]\n",
    "\tY = data.iloc[:, 0]\n",
    "\t#Normalisation\n",
    "\tX = X.values/255\n",
    "\tY = Y.values\n",
    "\t#10 values of MNIST dataset\n",
    "\ttransformedY = [[0 for _ in range(10)] for x in range(len(Y))]\n",
    "\t#Transformation of Y\n",
    "\tfor i in range(len(Y)):\n",
    "\t\ttransformedY[i][Y[i]] = 1\n",
    "\tY = transformedY\n",
    "\t\"\"\"Limiting data to run locally\n",
    "\treturn X[0:4000], Y[0:4000]\"\"\"\n",
    "\treturn X, Y"
   ]
  },
  {
   "cell_type": "code",
   "execution_count": 3,
   "metadata": {},
   "outputs": [],
   "source": [
    "#Spliting data to test and train\n",
    "def train_test_split(X,Y,split):\n",
    "\tl = len(X)\n",
    "\tlimit = int(np.floor(split*l))\n",
    "\t#Since, MNSIT data is randomly arranged, we can simply slice\n",
    "\tx_train = X[0:limit]\n",
    "\ty_train = Y[0:limit]\n",
    "\tx_test = X[limit:l]\n",
    "\ty_test = Y[limit:l]\n",
    "\treturn x_train,y_train,x_test,y_test\n",
    "\n",
    "#ReLU activation function for hidden layers\n",
    "def relu(input_layer):\n",
    "\treturn np.maximum(0,input_layer)\n",
    "\n",
    "#Softmax activation for output layers\n",
    "def softmax(input_layer):\n",
    "\texp_layer = np.exp(input_layer)\n",
    "\tsoftmax_layer = exp_layer/np.sum(exp_layer)\n",
    "\treturn softmax_layer"
   ]
  },
  {
   "cell_type": "code",
   "execution_count": 4,
   "metadata": {},
   "outputs": [],
   "source": [
    "#Using the structure of layers defined, initializing weight matrices\n",
    "def generate_weights(layers):\n",
    "\tweights = []\n",
    "\tnp.random.seed(1)\n",
    "\tfor i in range(len(layers) - 1):\n",
    "\t\t#Adding 1 for bias\n",
    "\t\tw = 2*np.random.rand(layers[i]+1,layers[i+1]) - 1\n",
    "\t\tweights.append(w)\n",
    "\treturn weights\n",
    "\n",
    "#Feedforward network\n",
    "def feedforward(x_vector,W):\n",
    "\tnetwork = [np.append(1,np.array(x_vector))]\n",
    "\tfor weight in W[:-1]:\n",
    "\t\tnext_layer = relu(np.dot(network[-1],weight))\n",
    "\t\tnetwork.append(np.append(1,next_layer))\n",
    "\tout_layer = softmax(np.dot(network[-1],W[-1]))\n",
    "\tnetwork.append(out_layer)\n",
    "\treturn network\n",
    "\n",
    "#Backpropagation through the network\n",
    "def backprop(network,y_vector,W,learning_rate):\n",
    "\tdeltas = [np.subtract(network[-1],y_vector)]\n",
    "\tprev_layer = np.dot(W[-1],deltas[0])\n",
    "\tdeltas.insert(0,prev_layer)\n",
    "\tfor weight in list(reversed(W))[1:-1]:\n",
    "\t\tprev_layer = np.dot(weight,deltas[0][1:])\n",
    "\t\tdeltas.insert(0,prev_layer)\n",
    "\t#Weight Update\n",
    "\tfor l in range(len(W)):\n",
    "\t\tfor i in range(len(W[l])):\n",
    "\t\t\tfor j in range(len(W[l][i])):\n",
    "\t\t\t\tW[l][i][j] -= learning_rate*deltas[l][j]*network[l][i]\n"
   ]
  },
  {
   "cell_type": "code",
   "execution_count": 5,
   "metadata": {},
   "outputs": [],
   "source": [
    "#Compute accuracy of the network for given weight parameters\n",
    "def analyse_net(W,X,Y):\n",
    "\tcorrect_pred = 0\n",
    "\tfor i in range(len(X)):\n",
    "\t\ty_pred = np.argmax(feedforward(X[i],W)[-1])\n",
    "\t\tif(y_pred==np.argmax(Y[i])):\n",
    "\t\t\tcorrect_pred+=1\n",
    "\treturn np.round(correct_pred/i,4)\n",
    "\n",
    "#Stochastic training for each training data\n",
    "def train(x_train,y_train,W,epoch,learning_rate,x_test,y_test):\n",
    "\tfor iteration in range(epoch):\n",
    "\t\tt0 = time.perf_counter()\n",
    "\t\tfor i in range(len(x_train)):\n",
    "\t\t\tnetwork = feedforward(x_train[i],W)\n",
    "\t\t\tbackprop(network,y_train[i],W,learning_rate)\n",
    "\t\tprint(\"Epoch\",iteration+1,\"Accuracy\",analyse_net(W,x_train,y_train),\"Time\",time.perf_counter()-t0)\n",
    "\n",
    "#Printing test data accuracy\n",
    "def test_accuracy(x_test,y_test,W):\n",
    "\tprint(\"Test Data Accuracy\",analyse_net(W,x_test,y_test))"
   ]
  },
  {
   "cell_type": "code",
   "execution_count": 6,
   "metadata": {},
   "outputs": [],
   "source": [
    "def run(hidden_layers,learning_rate,epoch,split):\n",
    "\tprint(\"Epochs\",epoch,\"LR\",learning_rate,\"Hidden Layers\",hidden_layers,\"Split\",split,sep=\"  \")\n",
    "\tX, Y = read_MNIST(\"D:/Github/MNIST_CSV/mnist_train.csv\")\n",
    "\tinput_layer = len(X[0])\n",
    "\toutput_layer = len(Y[0])\n",
    "\tlayers = [input_layer] + hidden_layers + [output_layer]\n",
    "\tW = generate_weights(layers)\n",
    "\tx_train,y_train,x_test,y_test = train_test_split(X,Y,split)\n",
    "\ttrain(x_train,y_train,W,epoch,learning_rate,x_test,y_test)\n",
    "\ttest_accuracy(x_test,y_test,W)"
   ]
  },
  {
   "cell_type": "code",
   "execution_count": null,
   "metadata": {},
   "outputs": [],
   "source": [
    "run([50],0.01,1,0.90)\n",
    "\n",
    "# run([55,25],0.003,30,0.9)"
   ]
  },
  {
   "cell_type": "code",
   "execution_count": null,
   "metadata": {},
   "outputs": [],
   "source": []
  }
 ],
 "metadata": {
  "kernelspec": {
   "display_name": "base",
   "language": "python",
   "name": "python3"
  },
  "language_info": {
   "codemirror_mode": {
    "name": "ipython",
    "version": 3
   },
   "file_extension": ".py",
   "mimetype": "text/x-python",
   "name": "python",
   "nbconvert_exporter": "python",
   "pygments_lexer": "ipython3",
   "version": "3.10.9"
  }
 },
 "nbformat": 4,
 "nbformat_minor": 2
}
