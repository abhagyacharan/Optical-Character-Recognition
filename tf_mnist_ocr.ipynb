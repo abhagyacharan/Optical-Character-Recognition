{
 "cells": [
  {
   "cell_type": "code",
   "execution_count": 13,
   "metadata": {},
   "outputs": [],
   "source": [
    "import tensorflow as tf\n",
    "import pandas as pd\n",
    "import numpy as np\n",
    "import time\n",
    "from tqdm import tqdm"
   ]
  },
  {
   "cell_type": "code",
   "execution_count": 42,
   "metadata": {},
   "outputs": [],
   "source": [
    "# Reading the MNIST dataset\n",
    "def read_MNIST(path):\n",
    "    data = pd.read_csv(path, skiprows=1)\n",
    "    X = data.iloc[:, 1:].values.astype('float32') / 255.0\n",
    "    Y = data.iloc[:, 0].values\n",
    "    Y = tf.keras.utils.to_categorical(Y, 10)\n",
    "    return X, Y"
   ]
  },
  {
   "cell_type": "code",
   "execution_count": 43,
   "metadata": {},
   "outputs": [],
   "source": [
    "# Splitting data to test and train\n",
    "def train_test_split(X, Y, split):\n",
    "    limit = int(np.floor(split * len(X)))\n",
    "    x_train, y_train = X[:limit], Y[:limit]\n",
    "    x_test, y_test = X[limit:], Y[limit:]\n",
    "    return x_train, y_train, x_test, y_test\n",
    "\n",
    "# Creating TensorFlow datasets\n",
    "def create_dataset(X, Y, batch_size):\n",
    "    dataset = tf.data.Dataset.from_tensor_slices((X, Y))\n",
    "    return dataset.shuffle(buffer_size=1024).batch(batch_size).prefetch(tf.data.AUTOTUNE)"
   ]
  },
  {
   "cell_type": "code",
   "execution_count": 44,
   "metadata": {},
   "outputs": [],
   "source": [
    "# Defining the model\n",
    "def create_model(input_shape, hidden_layers, output_shape):\n",
    "    model = tf.keras.Sequential()\n",
    "    model.add(tf.keras.layers.Input(shape=input_shape))\n",
    "    for units in hidden_layers:\n",
    "        model.add(tf.keras.layers.Dense(units, activation='relu'))\n",
    "    model.add(tf.keras.layers.Dense(output_shape, activation='softmax'))\n",
    "    return model"
   ]
  },
  {
   "cell_type": "code",
   "execution_count": 45,
   "metadata": {},
   "outputs": [],
   "source": [
    "# Training function\n",
    "def train_step(model, x, y, loss_fn, optimizer):\n",
    "    with tf.GradientTape() as tape:\n",
    "        predictions = model(x, training=True)\n",
    "        loss = loss_fn(y, predictions)\n",
    "    gradients = tape.gradient(loss, model.trainable_variables)\n",
    "    optimizer.apply_gradients(zip(gradients, model.trainable_variables))\n",
    "    return loss"
   ]
  },
  {
   "cell_type": "code",
   "execution_count": 46,
   "metadata": {},
   "outputs": [],
   "source": [
    "# Create a tf.function version of train_step\n",
    "train_step_tf = tf.function(train_step)"
   ]
  },
  {
   "cell_type": "code",
   "execution_count": 47,
   "metadata": {},
   "outputs": [],
   "source": [
    "# Compute accuracy of the network\n",
    "@tf.function\n",
    "def compute_accuracy(model, X, Y):\n",
    "    predictions = model(X, training=False)\n",
    "    correct_pred = tf.equal(tf.argmax(predictions, 1), tf.argmax(Y, 1))\n",
    "    return tf.reduce_mean(tf.cast(correct_pred, tf.float32))"
   ]
  },
  {
   "cell_type": "code",
   "execution_count": 48,
   "metadata": {},
   "outputs": [],
   "source": [
    "def train(model, train_dataset, test_dataset, epochs, optimizer):\n",
    "    loss_fn = tf.keras.losses.CategoricalCrossentropy()\n",
    "\n",
    "    for epoch in range(epochs):\n",
    "        t0 = time.time()\n",
    "        total_loss = 0\n",
    "        num_batches = 0\n",
    "\n",
    "        for x_batch, y_batch in train_dataset:\n",
    "            loss = train_step_tf(model, x_batch, y_batch, loss_fn, optimizer)\n",
    "            total_loss += loss\n",
    "            num_batches += 1\n",
    "\n",
    "        avg_loss = total_loss / num_batches\n",
    "        train_accuracy = tf.reduce_mean([compute_accuracy(model, x, y) for x, y in train_dataset])\n",
    "        \n",
    "        print(f\"Epoch {epoch+1}/{epochs}, Loss: {avg_loss:.4f}, \"\n",
    "              f\"Accuracy: {train_accuracy:.4f}, Time: {time.time()-t0:.2f}s\")\n",
    "        \n",
    "    # Test accuracy\n",
    "    test_accuracy = tf.reduce_mean([compute_accuracy(model, x, y) for x, y in test_dataset])\n",
    "    print(f\"Test Data Accuracy: {test_accuracy:.4f}\")"
   ]
  },
  {
   "cell_type": "code",
   "execution_count": 49,
   "metadata": {},
   "outputs": [],
   "source": [
    "def run(hidden_layers, learning_rate, epochs, split, batch_size):\n",
    "    print(f\"Epochs: {epochs}, LR: {learning_rate}, Hidden Layers: {hidden_layers}, \"\n",
    "          f\"Split: {split}, Batch Size: {batch_size}\")\n",
    "    \n",
    "    # Check for GPU\n",
    "    physical_devices = tf.config.list_physical_devices('GPU')\n",
    "    if len(physical_devices) > 0:\n",
    "        print(f\"GPU is available: {physical_devices[0]}\")\n",
    "        tf.config.experimental.set_memory_growth(physical_devices[0], True)\n",
    "    else:\n",
    "        print(\"No GPU available, using CPU\")\n",
    "\n",
    "    X, Y = read_MNIST(\"D:/Github/MNIST_CSV/mnist_train.csv\")\n",
    "    x_train, y_train, x_test, y_test = train_test_split(X, Y, split)\n",
    "\n",
    "    train_dataset = create_dataset(x_train, y_train, batch_size)\n",
    "    test_dataset = create_dataset(x_test, y_test, batch_size)\n",
    "\n",
    "    input_shape = X.shape[1]\n",
    "    output_shape = Y.shape[1]\n",
    "    model = create_model((input_shape,), hidden_layers, output_shape)\n",
    "    optimizer = tf.keras.optimizers.Adam(learning_rate=learning_rate)\n",
    "\n",
    "    train(model, train_dataset, test_dataset, epochs, optimizer)\n",
    "\n",
    "    # Save the trained model\n",
    "    model.save('mnist_model.h5')\n",
    "    print(\"Model saved as 'mnist_model.h5'\")\n",
    "\n",
    "    # Save the test dataset\n",
    "    np.savez('test_dataset.npz', x_test=x_test, y_test=y_test)\n",
    "    print(\"Test dataset saved as 'test_dataset.npz'\")\n",
    "\n",
    "    return model, test_dataset"
   ]
  },
  {
   "cell_type": "code",
   "execution_count": 50,
   "metadata": {},
   "outputs": [
    {
     "name": "stdout",
     "output_type": "stream",
     "text": [
      "Epochs: 10, LR: 0.01, Hidden Layers: [50], Split: 0.9, Batch Size: 32\n",
      "GPU is available: PhysicalDevice(name='/physical_device:GPU:0', device_type='GPU')\n",
      "Epoch 1/10, Loss: 0.2534, Accuracy: 0.9496, Time: 5.88s\n",
      "Epoch 2/10, Loss: 0.1654, Accuracy: 0.9560, Time: 4.88s\n",
      "Epoch 3/10, Loss: 0.1485, Accuracy: 0.9645, Time: 4.96s\n",
      "Epoch 4/10, Loss: 0.1336, Accuracy: 0.9642, Time: 5.28s\n",
      "Epoch 5/10, Loss: 0.1255, Accuracy: 0.9711, Time: 5.36s\n",
      "Epoch 6/10, Loss: 0.1198, Accuracy: 0.9678, Time: 5.78s\n",
      "Epoch 7/10, Loss: 0.1115, Accuracy: 0.9730, Time: 5.36s\n",
      "Epoch 8/10, Loss: 0.1088, Accuracy: 0.9737, Time: 5.04s\n",
      "Epoch 9/10, Loss: 0.1031, Accuracy: 0.9725, Time: 5.06s\n",
      "Epoch 10/10, Loss: 0.1020, Accuracy: 0.9712, Time: 4.98s\n",
      "Test Data Accuracy: 0.9584\n",
      "WARNING:tensorflow:Compiled the loaded model, but the compiled metrics have yet to be built. `model.compile_metrics` will be empty until you train or evaluate the model.\n",
      "Model saved as 'mnist_model.h5'\n",
      "Test dataset saved as 'test_dataset.npz'\n"
     ]
    }
   ],
   "source": [
    "\n",
    "# Run the training and save the model and test dataset\n",
    "model, test_dataset = run(hidden_layers=[50], learning_rate=0.01, epochs=10, split=0.90, batch_size=32)"
   ]
  },
  {
   "cell_type": "code",
   "execution_count": 51,
   "metadata": {},
   "outputs": [
    {
     "name": "stdout",
     "output_type": "stream",
     "text": [
      "1/1 [==============================] - 0s 251ms/step\n"
     ]
    },
    {
     "data": {
      "image/png": "[encoded data removed]",
      "text/plain": [
       "<Figure size 1500x300 with 5 Axes>"
      ]
     },
     "metadata": {},
     "output_type": "display_data"
    }
   ],
   "source": [
    "import matplotlib.pyplot as plt\n",
    "\n",
    "def test_and_visualize(model, test_dataset, num_samples=5):\n",
    "    # Get a batch of test data\n",
    "    for x_batch, y_batch in test_dataset:\n",
    "        break\n",
    "    \n",
    "    # Select random samples\n",
    "    sample_indices = np.random.choice(len(x_batch), num_samples, replace=False)\n",
    "    \n",
    "    # Make predictions\n",
    "    predictions = model.predict(x_batch)\n",
    "    \n",
    "    # Plot the results\n",
    "    fig, axes = plt.subplots(1, num_samples, figsize=(15, 3))\n",
    "    for i, idx in enumerate(sample_indices):\n",
    "        # Reshape the image\n",
    "        img = x_batch[idx].numpy().reshape(28, 28)\n",
    "        \n",
    "        # Plot the image\n",
    "        axes[i].imshow(img, cmap='gray')\n",
    "        axes[i].axis('off')\n",
    "        \n",
    "        # Get the true and predicted labels\n",
    "        true_label = np.argmax(y_batch[idx])\n",
    "        pred_label = np.argmax(predictions[idx])\n",
    "        \n",
    "        # Set the title with true and predicted labels\n",
    "        axes[i].set_title(f'True: {true_label}\\nPred: {pred_label}')\n",
    "    \n",
    "    plt.tight_layout()\n",
    "    plt.show()\n",
    "\n",
    "# After training the model, call the test_and_visualize function\n",
    "test_and_visualize(model, test_dataset)"
   ]
  },
  {
   "cell_type": "code",
   "execution_count": null,
   "metadata": {},
   "outputs": [],
   "source": []
  }
 ],
 "metadata": {
  "kernelspec": {
   "display_name": "base",
   "language": "python",
   "name": "python3"
  },
  "language_info": {
   "codemirror_mode": {
    "name": "ipython",
    "version": 3
   },
   "file_extension": ".py",
   "mimetype": "text/x-python",
   "name": "python",
   "nbconvert_exporter": "python",
   "pygments_lexer": "ipython3",
   "version": "3.10.9"
  }
 },
 "nbformat": 4,
 "nbformat_minor": 2
}
